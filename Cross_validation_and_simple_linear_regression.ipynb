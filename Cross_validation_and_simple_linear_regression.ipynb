{
 "cells": [
  {
   "cell_type": "markdown",
   "metadata": {},
   "source": [
    "# Cross validation and simple linear regression.\n",
    "\n",
    "##### Predicting salaries of employees using linear regression"
   ]
  },
  {
   "cell_type": "code",
   "execution_count": null,
   "metadata": {},
   "outputs": [],
   "source": []
  },
  {
   "cell_type": "code",
   "execution_count": 1,
   "metadata": {},
   "outputs": [],
   "source": [
    "import numpy as np\n",
    "import seaborn as sns\n",
    "import matplotlib.pyplot as plt\n",
    "import pandas as pd\n",
    "import statsmodels as sm\n",
    "from statsmodels.tools.eval_measures import rmse\n",
    "from scipy import stats\n",
    "from scipy.stats import sem\n",
    "from scipy.stats import pearsonr \n",
    "from sklearn.model_selection import train_test_split\n",
    "from sklearn.linear_model import LinearRegression\n",
    "from scipy import stats\n",
    "import statsmodels.api as sm\n",
    "from sklearn.metrics import mean_squared_error\n",
    "\n",
    "\n",
    "import warnings\n",
    "warnings.filterwarnings('ignore')\n",
    "\n",
    "salary_data = pd.read_csv('salary.csv')\n",
    "salary_meta = pd.read_csv('Salary metadata.csv', sep=';')\n"
   ]
  },
  {
   "cell_type": "code",
   "execution_count": 2,
   "metadata": {},
   "outputs": [
    {
     "data": {
      "text/html": [
       "<div>\n",
       "<style scoped>\n",
       "    .dataframe tbody tr th:only-of-type {\n",
       "        vertical-align: middle;\n",
       "    }\n",
       "\n",
       "    .dataframe tbody tr th {\n",
       "        vertical-align: top;\n",
       "    }\n",
       "\n",
       "    .dataframe thead th {\n",
       "        text-align: right;\n",
       "    }\n",
       "</style>\n",
       "<table border=\"1\" class=\"dataframe\">\n",
       "  <thead>\n",
       "    <tr style=\"text-align: right;\">\n",
       "      <th></th>\n",
       "      <th>salary</th>\n",
       "      <th>exprior</th>\n",
       "      <th>yearsworked</th>\n",
       "      <th>yearsrank</th>\n",
       "      <th>market</th>\n",
       "      <th>degree</th>\n",
       "      <th>otherqual</th>\n",
       "      <th>position</th>\n",
       "      <th>male</th>\n",
       "      <th>Field</th>\n",
       "      <th>yearsabs</th>\n",
       "    </tr>\n",
       "  </thead>\n",
       "  <tbody>\n",
       "    <tr>\n",
       "      <td>0</td>\n",
       "      <td>53000.0</td>\n",
       "      <td>0</td>\n",
       "      <td>0</td>\n",
       "      <td>0</td>\n",
       "      <td>1.17</td>\n",
       "      <td>1</td>\n",
       "      <td>0</td>\n",
       "      <td>1</td>\n",
       "      <td>1</td>\n",
       "      <td>3</td>\n",
       "      <td>0</td>\n",
       "    </tr>\n",
       "    <tr>\n",
       "      <td>1</td>\n",
       "      <td>58000.0</td>\n",
       "      <td>1</td>\n",
       "      <td>0</td>\n",
       "      <td>0</td>\n",
       "      <td>1.24</td>\n",
       "      <td>1</td>\n",
       "      <td>0</td>\n",
       "      <td>1</td>\n",
       "      <td>1</td>\n",
       "      <td>2</td>\n",
       "      <td>0</td>\n",
       "    </tr>\n",
       "    <tr>\n",
       "      <td>2</td>\n",
       "      <td>45500.0</td>\n",
       "      <td>0</td>\n",
       "      <td>0</td>\n",
       "      <td>0</td>\n",
       "      <td>1.21</td>\n",
       "      <td>1</td>\n",
       "      <td>0</td>\n",
       "      <td>1</td>\n",
       "      <td>1</td>\n",
       "      <td>3</td>\n",
       "      <td>2</td>\n",
       "    </tr>\n",
       "    <tr>\n",
       "      <td>3</td>\n",
       "      <td>35782.0</td>\n",
       "      <td>0</td>\n",
       "      <td>2</td>\n",
       "      <td>1</td>\n",
       "      <td>0.99</td>\n",
       "      <td>1</td>\n",
       "      <td>0</td>\n",
       "      <td>1</td>\n",
       "      <td>1</td>\n",
       "      <td>4</td>\n",
       "      <td>1</td>\n",
       "    </tr>\n",
       "    <tr>\n",
       "      <td>4</td>\n",
       "      <td>34731.0</td>\n",
       "      <td>0</td>\n",
       "      <td>2</td>\n",
       "      <td>2</td>\n",
       "      <td>0.91</td>\n",
       "      <td>1</td>\n",
       "      <td>0</td>\n",
       "      <td>1</td>\n",
       "      <td>1</td>\n",
       "      <td>4</td>\n",
       "      <td>1</td>\n",
       "    </tr>\n",
       "    <tr>\n",
       "      <td>...</td>\n",
       "      <td>...</td>\n",
       "      <td>...</td>\n",
       "      <td>...</td>\n",
       "      <td>...</td>\n",
       "      <td>...</td>\n",
       "      <td>...</td>\n",
       "      <td>...</td>\n",
       "      <td>...</td>\n",
       "      <td>...</td>\n",
       "      <td>...</td>\n",
       "      <td>...</td>\n",
       "    </tr>\n",
       "    <tr>\n",
       "      <td>509</td>\n",
       "      <td>45906.0</td>\n",
       "      <td>6</td>\n",
       "      <td>17</td>\n",
       "      <td>11</td>\n",
       "      <td>0.92</td>\n",
       "      <td>1</td>\n",
       "      <td>0</td>\n",
       "      <td>2</td>\n",
       "      <td>0</td>\n",
       "      <td>2</td>\n",
       "      <td>70</td>\n",
       "    </tr>\n",
       "    <tr>\n",
       "      <td>510</td>\n",
       "      <td>60402.0</td>\n",
       "      <td>6</td>\n",
       "      <td>19</td>\n",
       "      <td>7</td>\n",
       "      <td>0.86</td>\n",
       "      <td>1</td>\n",
       "      <td>0</td>\n",
       "      <td>3</td>\n",
       "      <td>0</td>\n",
       "      <td>1</td>\n",
       "      <td>72</td>\n",
       "    </tr>\n",
       "    <tr>\n",
       "      <td>511</td>\n",
       "      <td>53187.0</td>\n",
       "      <td>19</td>\n",
       "      <td>7</td>\n",
       "      <td>6</td>\n",
       "      <td>0.78</td>\n",
       "      <td>1</td>\n",
       "      <td>0</td>\n",
       "      <td>3</td>\n",
       "      <td>0</td>\n",
       "      <td>4</td>\n",
       "      <td>76</td>\n",
       "    </tr>\n",
       "    <tr>\n",
       "      <td>512</td>\n",
       "      <td>56542.0</td>\n",
       "      <td>8</td>\n",
       "      <td>20</td>\n",
       "      <td>10</td>\n",
       "      <td>0.78</td>\n",
       "      <td>1</td>\n",
       "      <td>0</td>\n",
       "      <td>3</td>\n",
       "      <td>0</td>\n",
       "      <td>2</td>\n",
       "      <td>78</td>\n",
       "    </tr>\n",
       "    <tr>\n",
       "      <td>513</td>\n",
       "      <td>52662.0</td>\n",
       "      <td>13</td>\n",
       "      <td>25</td>\n",
       "      <td>11</td>\n",
       "      <td>0.78</td>\n",
       "      <td>1</td>\n",
       "      <td>0</td>\n",
       "      <td>3</td>\n",
       "      <td>0</td>\n",
       "      <td>1</td>\n",
       "      <td>112</td>\n",
       "    </tr>\n",
       "  </tbody>\n",
       "</table>\n",
       "<p>514 rows × 11 columns</p>\n",
       "</div>"
      ],
      "text/plain": [
       "      salary  exprior  yearsworked  yearsrank  market  degree  otherqual  \\\n",
       "0    53000.0        0            0          0    1.17       1          0   \n",
       "1    58000.0        1            0          0    1.24       1          0   \n",
       "2    45500.0        0            0          0    1.21       1          0   \n",
       "3    35782.0        0            2          1    0.99       1          0   \n",
       "4    34731.0        0            2          2    0.91       1          0   \n",
       "..       ...      ...          ...        ...     ...     ...        ...   \n",
       "509  45906.0        6           17         11    0.92       1          0   \n",
       "510  60402.0        6           19          7    0.86       1          0   \n",
       "511  53187.0       19            7          6    0.78       1          0   \n",
       "512  56542.0        8           20         10    0.78       1          0   \n",
       "513  52662.0       13           25         11    0.78       1          0   \n",
       "\n",
       "     position  male  Field  yearsabs  \n",
       "0           1     1      3         0  \n",
       "1           1     1      2         0  \n",
       "2           1     1      3         2  \n",
       "3           1     1      4         1  \n",
       "4           1     1      4         1  \n",
       "..        ...   ...    ...       ...  \n",
       "509         2     0      2        70  \n",
       "510         3     0      1        72  \n",
       "511         3     0      4        76  \n",
       "512         3     0      2        78  \n",
       "513         3     0      1       112  \n",
       "\n",
       "[514 rows x 11 columns]"
      ]
     },
     "metadata": {},
     "output_type": "display_data"
    },
    {
     "data": {
      "text/html": [
       "<div>\n",
       "<style scoped>\n",
       "    .dataframe tbody tr th:only-of-type {\n",
       "        vertical-align: middle;\n",
       "    }\n",
       "\n",
       "    .dataframe tbody tr th {\n",
       "        vertical-align: top;\n",
       "    }\n",
       "\n",
       "    .dataframe thead th {\n",
       "        text-align: right;\n",
       "    }\n",
       "</style>\n",
       "<table border=\"1\" class=\"dataframe\">\n",
       "  <thead>\n",
       "    <tr style=\"text-align: right;\">\n",
       "      <th></th>\n",
       "      <th>Variable</th>\n",
       "      <th>Type</th>\n",
       "      <th>Explanation</th>\n",
       "    </tr>\n",
       "  </thead>\n",
       "  <tbody>\n",
       "    <tr>\n",
       "      <td>0</td>\n",
       "      <td>salary</td>\n",
       "      <td>Continuous</td>\n",
       "      <td>Annual salary in dollars</td>\n",
       "    </tr>\n",
       "    <tr>\n",
       "      <td>1</td>\n",
       "      <td>exprior</td>\n",
       "      <td>Continuous</td>\n",
       "      <td>Years of experience prior to working in this f...</td>\n",
       "    </tr>\n",
       "    <tr>\n",
       "      <td>2</td>\n",
       "      <td>yearsworked</td>\n",
       "      <td>Continuous</td>\n",
       "      <td>Years worked in this field</td>\n",
       "    </tr>\n",
       "    <tr>\n",
       "      <td>3</td>\n",
       "      <td>yearsrank</td>\n",
       "      <td>Continuous</td>\n",
       "      <td>Years worked at current rank</td>\n",
       "    </tr>\n",
       "    <tr>\n",
       "      <td>4</td>\n",
       "      <td>market</td>\n",
       "      <td>Continuous</td>\n",
       "      <td>Market value (1 = salary at market value for p...</td>\n",
       "    </tr>\n",
       "    <tr>\n",
       "      <td>5</td>\n",
       "      <td>degree</td>\n",
       "      <td>Binary</td>\n",
       "      <td>Has degree (0 = no, 1 = yes)</td>\n",
       "    </tr>\n",
       "    <tr>\n",
       "      <td>6</td>\n",
       "      <td>otherqual</td>\n",
       "      <td>Binary</td>\n",
       "      <td>Has other post-secondary qualification (0 = no...</td>\n",
       "    </tr>\n",
       "    <tr>\n",
       "      <td>7</td>\n",
       "      <td>position</td>\n",
       "      <td>Categorical</td>\n",
       "      <td>Position (1 = Junior Employee, 2 = Manager, 3 ...</td>\n",
       "    </tr>\n",
       "    <tr>\n",
       "      <td>8</td>\n",
       "      <td>male</td>\n",
       "      <td>Binary</td>\n",
       "      <td>0 = no, 1 = yes</td>\n",
       "    </tr>\n",
       "    <tr>\n",
       "      <td>9</td>\n",
       "      <td>Field</td>\n",
       "      <td>Categorical</td>\n",
       "      <td>Field of work (1 = Engineering, 2 = Finance, 3...</td>\n",
       "    </tr>\n",
       "    <tr>\n",
       "      <td>10</td>\n",
       "      <td>yearsabs</td>\n",
       "      <td>Continuous</td>\n",
       "      <td>Years absent from work (e.g. due to illness / ...</td>\n",
       "    </tr>\n",
       "  </tbody>\n",
       "</table>\n",
       "</div>"
      ],
      "text/plain": [
       "       Variable         Type  \\\n",
       "0        salary   Continuous   \n",
       "1       exprior   Continuous   \n",
       "2   yearsworked   Continuous   \n",
       "3     yearsrank   Continuous   \n",
       "4        market   Continuous   \n",
       "5        degree       Binary   \n",
       "6     otherqual       Binary   \n",
       "7      position  Categorical   \n",
       "8          male       Binary   \n",
       "9         Field  Categorical   \n",
       "10     yearsabs   Continuous   \n",
       "\n",
       "                                          Explanation  \n",
       "0                            Annual salary in dollars  \n",
       "1   Years of experience prior to working in this f...  \n",
       "2                          Years worked in this field  \n",
       "3                       Years worked at current rank   \n",
       "4   Market value (1 = salary at market value for p...  \n",
       "5                        Has degree (0 = no, 1 = yes)  \n",
       "6   Has other post-secondary qualification (0 = no...  \n",
       "7   Position (1 = Junior Employee, 2 = Manager, 3 ...  \n",
       "8                                     0 = no, 1 = yes  \n",
       "9   Field of work (1 = Engineering, 2 = Finance, 3...  \n",
       "10  Years absent from work (e.g. due to illness / ...  "
      ]
     },
     "metadata": {},
     "output_type": "display_data"
    }
   ],
   "source": [
    "display(salary_data)\n",
    "display(salary_meta)\n"
   ]
  },
  {
   "cell_type": "markdown",
   "metadata": {},
   "source": []
  },
  {
   "cell_type": "markdown",
   "metadata": {},
   "source": [
    " "
   ]
  },
  {
   "cell_type": "markdown",
   "metadata": {},
   "source": [
    "## 1. Spliting data into a training and test set. Examining the training data for missing and extreme values. Creating histograms to show the distribution of the variables and a scatterplot showing the relationship between Years Worked and Salary."
   ]
  },
  {
   "cell_type": "markdown",
   "metadata": {},
   "source": [
    "#### Checking if there are any missing values"
   ]
  },
  {
   "cell_type": "code",
   "execution_count": 3,
   "metadata": {},
   "outputs": [
    {
     "data": {
      "text/plain": [
       "salary         1\n",
       "exprior        0\n",
       "yearsworked    0\n",
       "yearsrank      0\n",
       "market         0\n",
       "degree         0\n",
       "otherqual      0\n",
       "position       0\n",
       "male           0\n",
       "Field          0\n",
       "yearsabs       0\n",
       "dtype: int64"
      ]
     },
     "execution_count": 3,
     "metadata": {},
     "output_type": "execute_result"
    }
   ],
   "source": [
    "salary_data.isnull().sum()"
   ]
  },
  {
   "cell_type": "markdown",
   "metadata": {},
   "source": [
    " one missing values from salary column"
   ]
  },
  {
   "cell_type": "markdown",
   "metadata": {},
   "source": [
    "#### Filling the missing value with the mean"
   ]
  },
  {
   "cell_type": "code",
   "execution_count": 4,
   "metadata": {},
   "outputs": [],
   "source": [
    "salary_data['salary'].fillna(salary_data['salary'].mean(),inplace=True)"
   ]
  },
  {
   "cell_type": "code",
   "execution_count": 5,
   "metadata": {},
   "outputs": [
    {
     "data": {
      "text/plain": [
       "0"
      ]
     },
     "execution_count": 5,
     "metadata": {},
     "output_type": "execute_result"
    }
   ],
   "source": [
    "# confirmation from missing values\n",
    "salary_data.isnull().sum().sum()"
   ]
  },
  {
   "cell_type": "markdown",
   "metadata": {},
   "source": [
    "##### Data correlation"
   ]
  },
  {
   "cell_type": "code",
   "execution_count": 6,
   "metadata": {},
   "outputs": [
    {
     "data": {
      "text/html": [
       "<div>\n",
       "<style scoped>\n",
       "    .dataframe tbody tr th:only-of-type {\n",
       "        vertical-align: middle;\n",
       "    }\n",
       "\n",
       "    .dataframe tbody tr th {\n",
       "        vertical-align: top;\n",
       "    }\n",
       "\n",
       "    .dataframe thead th {\n",
       "        text-align: right;\n",
       "    }\n",
       "</style>\n",
       "<table border=\"1\" class=\"dataframe\">\n",
       "  <thead>\n",
       "    <tr style=\"text-align: right;\">\n",
       "      <th></th>\n",
       "      <th>salary</th>\n",
       "      <th>exprior</th>\n",
       "      <th>yearsworked</th>\n",
       "      <th>yearsrank</th>\n",
       "      <th>market</th>\n",
       "      <th>degree</th>\n",
       "      <th>otherqual</th>\n",
       "      <th>position</th>\n",
       "      <th>male</th>\n",
       "      <th>Field</th>\n",
       "      <th>yearsabs</th>\n",
       "    </tr>\n",
       "  </thead>\n",
       "  <tbody>\n",
       "    <tr>\n",
       "      <td>salary</td>\n",
       "      <td>1.000000</td>\n",
       "      <td>0.119946</td>\n",
       "      <td>0.623135</td>\n",
       "      <td>0.610580</td>\n",
       "      <td>0.407208</td>\n",
       "      <td>0.044552</td>\n",
       "      <td>0.167129</td>\n",
       "      <td>0.701354</td>\n",
       "      <td>0.361447</td>\n",
       "      <td>-0.498485</td>\n",
       "      <td>-0.069622</td>\n",
       "    </tr>\n",
       "    <tr>\n",
       "      <td>exprior</td>\n",
       "      <td>0.119946</td>\n",
       "      <td>1.000000</td>\n",
       "      <td>-0.246549</td>\n",
       "      <td>-0.066403</td>\n",
       "      <td>-0.035041</td>\n",
       "      <td>-0.049373</td>\n",
       "      <td>0.264804</td>\n",
       "      <td>0.116596</td>\n",
       "      <td>0.046558</td>\n",
       "      <td>-0.048315</td>\n",
       "      <td>0.132380</td>\n",
       "    </tr>\n",
       "    <tr>\n",
       "      <td>yearsworked</td>\n",
       "      <td>0.623135</td>\n",
       "      <td>-0.246549</td>\n",
       "      <td>1.000000</td>\n",
       "      <td>0.813471</td>\n",
       "      <td>-0.070896</td>\n",
       "      <td>0.028421</td>\n",
       "      <td>-0.040490</td>\n",
       "      <td>0.746736</td>\n",
       "      <td>0.278963</td>\n",
       "      <td>-0.261379</td>\n",
       "      <td>0.055468</td>\n",
       "    </tr>\n",
       "    <tr>\n",
       "      <td>yearsrank</td>\n",
       "      <td>0.610580</td>\n",
       "      <td>-0.066403</td>\n",
       "      <td>0.813471</td>\n",
       "      <td>1.000000</td>\n",
       "      <td>-0.026975</td>\n",
       "      <td>0.006516</td>\n",
       "      <td>0.007036</td>\n",
       "      <td>0.485210</td>\n",
       "      <td>0.237787</td>\n",
       "      <td>-0.263953</td>\n",
       "      <td>0.035632</td>\n",
       "    </tr>\n",
       "    <tr>\n",
       "      <td>market</td>\n",
       "      <td>0.407208</td>\n",
       "      <td>-0.035041</td>\n",
       "      <td>-0.070896</td>\n",
       "      <td>-0.026975</td>\n",
       "      <td>1.000000</td>\n",
       "      <td>0.036408</td>\n",
       "      <td>0.021692</td>\n",
       "      <td>-0.013358</td>\n",
       "      <td>0.181201</td>\n",
       "      <td>-0.223827</td>\n",
       "      <td>-0.167068</td>\n",
       "    </tr>\n",
       "    <tr>\n",
       "      <td>degree</td>\n",
       "      <td>0.044552</td>\n",
       "      <td>-0.049373</td>\n",
       "      <td>0.028421</td>\n",
       "      <td>0.006516</td>\n",
       "      <td>0.036408</td>\n",
       "      <td>1.000000</td>\n",
       "      <td>-0.214717</td>\n",
       "      <td>0.043680</td>\n",
       "      <td>0.061611</td>\n",
       "      <td>-0.098424</td>\n",
       "      <td>0.029311</td>\n",
       "    </tr>\n",
       "    <tr>\n",
       "      <td>otherqual</td>\n",
       "      <td>0.167129</td>\n",
       "      <td>0.264804</td>\n",
       "      <td>-0.040490</td>\n",
       "      <td>0.007036</td>\n",
       "      <td>0.021692</td>\n",
       "      <td>-0.214717</td>\n",
       "      <td>1.000000</td>\n",
       "      <td>0.160311</td>\n",
       "      <td>0.015833</td>\n",
       "      <td>-0.076623</td>\n",
       "      <td>-0.017639</td>\n",
       "    </tr>\n",
       "    <tr>\n",
       "      <td>position</td>\n",
       "      <td>0.701354</td>\n",
       "      <td>0.116596</td>\n",
       "      <td>0.746736</td>\n",
       "      <td>0.485210</td>\n",
       "      <td>-0.013358</td>\n",
       "      <td>0.043680</td>\n",
       "      <td>0.160311</td>\n",
       "      <td>1.000000</td>\n",
       "      <td>0.318129</td>\n",
       "      <td>-0.288812</td>\n",
       "      <td>0.029751</td>\n",
       "    </tr>\n",
       "    <tr>\n",
       "      <td>male</td>\n",
       "      <td>0.361447</td>\n",
       "      <td>0.046558</td>\n",
       "      <td>0.278963</td>\n",
       "      <td>0.237787</td>\n",
       "      <td>0.181201</td>\n",
       "      <td>0.061611</td>\n",
       "      <td>0.015833</td>\n",
       "      <td>0.318129</td>\n",
       "      <td>1.000000</td>\n",
       "      <td>-0.128874</td>\n",
       "      <td>-0.622179</td>\n",
       "    </tr>\n",
       "    <tr>\n",
       "      <td>Field</td>\n",
       "      <td>-0.498485</td>\n",
       "      <td>-0.048315</td>\n",
       "      <td>-0.261379</td>\n",
       "      <td>-0.263953</td>\n",
       "      <td>-0.223827</td>\n",
       "      <td>-0.098424</td>\n",
       "      <td>-0.076623</td>\n",
       "      <td>-0.288812</td>\n",
       "      <td>-0.128874</td>\n",
       "      <td>1.000000</td>\n",
       "      <td>-0.000127</td>\n",
       "    </tr>\n",
       "    <tr>\n",
       "      <td>yearsabs</td>\n",
       "      <td>-0.069622</td>\n",
       "      <td>0.132380</td>\n",
       "      <td>0.055468</td>\n",
       "      <td>0.035632</td>\n",
       "      <td>-0.167068</td>\n",
       "      <td>0.029311</td>\n",
       "      <td>-0.017639</td>\n",
       "      <td>0.029751</td>\n",
       "      <td>-0.622179</td>\n",
       "      <td>-0.000127</td>\n",
       "      <td>1.000000</td>\n",
       "    </tr>\n",
       "  </tbody>\n",
       "</table>\n",
       "</div>"
      ],
      "text/plain": [
       "               salary   exprior  yearsworked  yearsrank    market    degree  \\\n",
       "salary       1.000000  0.119946     0.623135   0.610580  0.407208  0.044552   \n",
       "exprior      0.119946  1.000000    -0.246549  -0.066403 -0.035041 -0.049373   \n",
       "yearsworked  0.623135 -0.246549     1.000000   0.813471 -0.070896  0.028421   \n",
       "yearsrank    0.610580 -0.066403     0.813471   1.000000 -0.026975  0.006516   \n",
       "market       0.407208 -0.035041    -0.070896  -0.026975  1.000000  0.036408   \n",
       "degree       0.044552 -0.049373     0.028421   0.006516  0.036408  1.000000   \n",
       "otherqual    0.167129  0.264804    -0.040490   0.007036  0.021692 -0.214717   \n",
       "position     0.701354  0.116596     0.746736   0.485210 -0.013358  0.043680   \n",
       "male         0.361447  0.046558     0.278963   0.237787  0.181201  0.061611   \n",
       "Field       -0.498485 -0.048315    -0.261379  -0.263953 -0.223827 -0.098424   \n",
       "yearsabs    -0.069622  0.132380     0.055468   0.035632 -0.167068  0.029311   \n",
       "\n",
       "             otherqual  position      male     Field  yearsabs  \n",
       "salary        0.167129  0.701354  0.361447 -0.498485 -0.069622  \n",
       "exprior       0.264804  0.116596  0.046558 -0.048315  0.132380  \n",
       "yearsworked  -0.040490  0.746736  0.278963 -0.261379  0.055468  \n",
       "yearsrank     0.007036  0.485210  0.237787 -0.263953  0.035632  \n",
       "market        0.021692 -0.013358  0.181201 -0.223827 -0.167068  \n",
       "degree       -0.214717  0.043680  0.061611 -0.098424  0.029311  \n",
       "otherqual     1.000000  0.160311  0.015833 -0.076623 -0.017639  \n",
       "position      0.160311  1.000000  0.318129 -0.288812  0.029751  \n",
       "male          0.015833  0.318129  1.000000 -0.128874 -0.622179  \n",
       "Field        -0.076623 -0.288812 -0.128874  1.000000 -0.000127  \n",
       "yearsabs     -0.017639  0.029751 -0.622179 -0.000127  1.000000  "
      ]
     },
     "execution_count": 6,
     "metadata": {},
     "output_type": "execute_result"
    }
   ],
   "source": [
    "salary_data.corr()"
   ]
  },
  {
   "cell_type": "markdown",
   "metadata": {},
   "source": [
    "The columns Yearsworked, Yearsrank and Position have high correlation"
   ]
  },
  {
   "cell_type": "markdown",
   "metadata": {},
   "source": [
    " "
   ]
  },
  {
   "cell_type": "markdown",
   "metadata": {},
   "source": [
    "#### splitting the dataset"
   ]
  },
  {
   "cell_type": "code",
   "execution_count": null,
   "metadata": {},
   "outputs": [],
   "source": []
  },
  {
   "cell_type": "code",
   "execution_count": 7,
   "metadata": {},
   "outputs": [],
   "source": [
    "x = salary_data\n",
    "y = salary_data['salary']\n",
    "\n",
    "\n",
    "x_train, x_test, y_train, y_test = train_test_split(x, y, test_size=0.3, random_state=0)"
   ]
  },
  {
   "cell_type": "code",
   "execution_count": 8,
   "metadata": {},
   "outputs": [
    {
     "data": {
      "text/html": [
       "<div>\n",
       "<style scoped>\n",
       "    .dataframe tbody tr th:only-of-type {\n",
       "        vertical-align: middle;\n",
       "    }\n",
       "\n",
       "    .dataframe tbody tr th {\n",
       "        vertical-align: top;\n",
       "    }\n",
       "\n",
       "    .dataframe thead th {\n",
       "        text-align: right;\n",
       "    }\n",
       "</style>\n",
       "<table border=\"1\" class=\"dataframe\">\n",
       "  <thead>\n",
       "    <tr style=\"text-align: right;\">\n",
       "      <th></th>\n",
       "      <th>salary</th>\n",
       "      <th>exprior</th>\n",
       "      <th>yearsworked</th>\n",
       "      <th>yearsrank</th>\n",
       "      <th>market</th>\n",
       "      <th>degree</th>\n",
       "      <th>otherqual</th>\n",
       "      <th>position</th>\n",
       "      <th>male</th>\n",
       "      <th>Field</th>\n",
       "      <th>yearsabs</th>\n",
       "    </tr>\n",
       "  </thead>\n",
       "  <tbody>\n",
       "    <tr>\n",
       "      <td>419</td>\n",
       "      <td>34603.0</td>\n",
       "      <td>0</td>\n",
       "      <td>6</td>\n",
       "      <td>4</td>\n",
       "      <td>0.79</td>\n",
       "      <td>1</td>\n",
       "      <td>0</td>\n",
       "      <td>1</td>\n",
       "      <td>0</td>\n",
       "      <td>2</td>\n",
       "      <td>1</td>\n",
       "    </tr>\n",
       "    <tr>\n",
       "      <td>135</td>\n",
       "      <td>53543.0</td>\n",
       "      <td>9</td>\n",
       "      <td>4</td>\n",
       "      <td>4</td>\n",
       "      <td>1.17</td>\n",
       "      <td>1</td>\n",
       "      <td>0</td>\n",
       "      <td>2</td>\n",
       "      <td>1</td>\n",
       "      <td>1</td>\n",
       "      <td>1</td>\n",
       "    </tr>\n",
       "    <tr>\n",
       "      <td>386</td>\n",
       "      <td>33800.0</td>\n",
       "      <td>0</td>\n",
       "      <td>0</td>\n",
       "      <td>0</td>\n",
       "      <td>0.84</td>\n",
       "      <td>1</td>\n",
       "      <td>0</td>\n",
       "      <td>1</td>\n",
       "      <td>0</td>\n",
       "      <td>3</td>\n",
       "      <td>4</td>\n",
       "    </tr>\n",
       "    <tr>\n",
       "      <td>122</td>\n",
       "      <td>49667.0</td>\n",
       "      <td>0</td>\n",
       "      <td>12</td>\n",
       "      <td>4</td>\n",
       "      <td>0.88</td>\n",
       "      <td>1</td>\n",
       "      <td>0</td>\n",
       "      <td>2</td>\n",
       "      <td>1</td>\n",
       "      <td>2</td>\n",
       "      <td>0</td>\n",
       "    </tr>\n",
       "    <tr>\n",
       "      <td>22</td>\n",
       "      <td>34731.0</td>\n",
       "      <td>1</td>\n",
       "      <td>1</td>\n",
       "      <td>1</td>\n",
       "      <td>0.85</td>\n",
       "      <td>1</td>\n",
       "      <td>0</td>\n",
       "      <td>1</td>\n",
       "      <td>1</td>\n",
       "      <td>4</td>\n",
       "      <td>3</td>\n",
       "    </tr>\n",
       "  </tbody>\n",
       "</table>\n",
       "</div>"
      ],
      "text/plain": [
       "      salary  exprior  yearsworked  yearsrank  market  degree  otherqual  \\\n",
       "419  34603.0        0            6          4    0.79       1          0   \n",
       "135  53543.0        9            4          4    1.17       1          0   \n",
       "386  33800.0        0            0          0    0.84       1          0   \n",
       "122  49667.0        0           12          4    0.88       1          0   \n",
       "22   34731.0        1            1          1    0.85       1          0   \n",
       "\n",
       "     position  male  Field  yearsabs  \n",
       "419         1     0      2         1  \n",
       "135         2     1      1         1  \n",
       "386         1     0      3         4  \n",
       "122         2     1      2         0  \n",
       "22          1     1      4         3  "
      ]
     },
     "execution_count": 8,
     "metadata": {},
     "output_type": "execute_result"
    }
   ],
   "source": [
    "x_train.head()"
   ]
  },
  {
   "cell_type": "code",
   "execution_count": 9,
   "metadata": {},
   "outputs": [
    {
     "data": {
      "text/plain": [
       "(359, 11)"
      ]
     },
     "execution_count": 9,
     "metadata": {},
     "output_type": "execute_result"
    }
   ],
   "source": [
    "# shape of training data set\n",
    "x_train.shape"
   ]
  },
  {
   "cell_type": "markdown",
   "metadata": {},
   "source": [
    " "
   ]
  },
  {
   "cell_type": "code",
   "execution_count": 10,
   "metadata": {},
   "outputs": [
    {
     "data": {
      "text/plain": [
       "(0.6060480089102418, 2.266003579670928e-37)"
      ]
     },
     "execution_count": 10,
     "metadata": {},
     "output_type": "execute_result"
    }
   ],
   "source": [
    "# linear regression\n",
    "stats.pearsonr(x_train['yearsworked'],y_train)"
   ]
  },
  {
   "cell_type": "code",
   "execution_count": 11,
   "metadata": {},
   "outputs": [
    {
     "data": {
      "image/png": "[encoded data removed]",
      "text/plain": [
       "<Figure size 432x288 with 1 Axes>"
      ]
     },
     "metadata": {
      "needs_background": "light"
     },
     "output_type": "display_data"
    }
   ],
   "source": [
    "\n",
    "#plotting scatter plot\n",
    "sns.regplot(x='yearsworked', y='salary', color='b', data= x_train, ci= None)\n",
    "plt.title(\" Relationship between Years Worked and Salary\", fontsize= 15)\n",
    "plt.show()"
   ]
  },
  {
   "cell_type": "markdown",
   "metadata": {},
   "source": [
    " "
   ]
  },
  {
   "cell_type": "code",
   "execution_count": 12,
   "metadata": {},
   "outputs": [
    {
     "data": {
      "text/plain": [
       "Text(0, 0.5, 'Frequency')"
      ]
     },
     "execution_count": 12,
     "metadata": {},
     "output_type": "execute_result"
    },
    {
     "data": {
      "image/png": "[encoded data removed]",
      "text/plain": [
       "<Figure size 1080x360 with 2 Axes>"
      ]
     },
     "metadata": {
      "needs_background": "light"
     },
     "output_type": "display_data"
    }
   ],
   "source": [
    "#plotting histogram & subplotting\n",
    "f, axes = plt.subplots(1, 2,figsize=(15, 5))\n",
    "grid = plt.GridSpec(1, 2, wspace=0.5, hspace=0.3)\n",
    "plt.subplot(grid[0, 0])\n",
    "x_train['yearsworked'].hist()\n",
    "plt.title('Years worked variance', fontsize= 15)\n",
    "plt.xlabel('Years Worked')\n",
    "plt.ylabel('Frequency')\n",
    "\n",
    "plt.subplot(grid[0, 1])\n",
    "y_train.hist()\n",
    "plt.title('Salary Variance', fontsize= 15)\n",
    "plt.xlabel('Salary')\n",
    "plt.ylabel('Frequency')"
   ]
  },
  {
   "cell_type": "markdown",
   "metadata": {},
   "source": [
    " "
   ]
  },
  {
   "cell_type": "code",
   "execution_count": 13,
   "metadata": {},
   "outputs": [],
   "source": [
    "#creating model\n",
    "x_train = sm.add_constant(x_train['yearsworked'])\n",
    "lm = sm.OLS(y_train, x_train).fit()"
   ]
  },
  {
   "cell_type": "code",
   "execution_count": null,
   "metadata": {},
   "outputs": [],
   "source": []
  },
  {
   "cell_type": "markdown",
   "metadata": {},
   "source": [
    "### 2. The statsmodels package and the training data, running a simple linear regression for Salary with one predictor variable: Years Worked"
   ]
  },
  {
   "cell_type": "code",
   "execution_count": 14,
   "metadata": {},
   "outputs": [
    {
     "data": {
      "text/html": [
       "<table class=\"simpletable\">\n",
       "<caption>OLS Regression Results</caption>\n",
       "<tr>\n",
       "  <th>Dep. Variable:</th>         <td>salary</td>      <th>  R-squared:         </th> <td>   0.367</td>\n",
       "</tr>\n",
       "<tr>\n",
       "  <th>Model:</th>                   <td>OLS</td>       <th>  Adj. R-squared:    </th> <td>   0.366</td>\n",
       "</tr>\n",
       "<tr>\n",
       "  <th>Method:</th>             <td>Least Squares</td>  <th>  F-statistic:       </th> <td>   207.2</td>\n",
       "</tr>\n",
       "<tr>\n",
       "  <th>Date:</th>             <td>Tue, 28 Apr 2020</td> <th>  Prob (F-statistic):</th> <td>2.27e-37</td>\n",
       "</tr>\n",
       "<tr>\n",
       "  <th>Time:</th>                 <td>08:03:56</td>     <th>  Log-Likelihood:    </th> <td> -3825.5</td>\n",
       "</tr>\n",
       "<tr>\n",
       "  <th>No. Observations:</th>      <td>   359</td>      <th>  AIC:               </th> <td>   7655.</td>\n",
       "</tr>\n",
       "<tr>\n",
       "  <th>Df Residuals:</th>          <td>   357</td>      <th>  BIC:               </th> <td>   7663.</td>\n",
       "</tr>\n",
       "<tr>\n",
       "  <th>Df Model:</th>              <td>     1</td>      <th>                     </th>     <td> </td>   \n",
       "</tr>\n",
       "<tr>\n",
       "  <th>Covariance Type:</th>      <td>nonrobust</td>    <th>                     </th>     <td> </td>   \n",
       "</tr>\n",
       "</table>\n",
       "<table class=\"simpletable\">\n",
       "<tr>\n",
       "       <td></td>          <th>coef</th>     <th>std err</th>      <th>t</th>      <th>P>|t|</th>  <th>[0.025</th>    <th>0.975]</th>  \n",
       "</tr>\n",
       "<tr>\n",
       "  <th>const</th>       <td> 4.058e+04</td> <td>  910.788</td> <td>   44.553</td> <td> 0.000</td> <td> 3.88e+04</td> <td> 4.24e+04</td>\n",
       "</tr>\n",
       "<tr>\n",
       "  <th>yearsworked</th> <td>  827.1461</td> <td>   57.457</td> <td>   14.396</td> <td> 0.000</td> <td>  714.150</td> <td>  940.143</td>\n",
       "</tr>\n",
       "</table>\n",
       "<table class=\"simpletable\">\n",
       "<tr>\n",
       "  <th>Omnibus:</th>       <td>59.682</td> <th>  Durbin-Watson:     </th> <td>   1.972</td>\n",
       "</tr>\n",
       "<tr>\n",
       "  <th>Prob(Omnibus):</th> <td> 0.000</td> <th>  Jarque-Bera (JB):  </th> <td>  87.799</td>\n",
       "</tr>\n",
       "<tr>\n",
       "  <th>Skew:</th>          <td> 1.064</td> <th>  Prob(JB):          </th> <td>8.61e-20</td>\n",
       "</tr>\n",
       "<tr>\n",
       "  <th>Kurtosis:</th>      <td> 4.158</td> <th>  Cond. No.          </th> <td>    26.6</td>\n",
       "</tr>\n",
       "</table><br/><br/>Warnings:<br/>[1] Standard Errors assume that the covariance matrix of the errors is correctly specified."
      ],
      "text/plain": [
       "<class 'statsmodels.iolib.summary.Summary'>\n",
       "\"\"\"\n",
       "                            OLS Regression Results                            \n",
       "==============================================================================\n",
       "Dep. Variable:                 salary   R-squared:                       0.367\n",
       "Model:                            OLS   Adj. R-squared:                  0.366\n",
       "Method:                 Least Squares   F-statistic:                     207.2\n",
       "Date:                Tue, 28 Apr 2020   Prob (F-statistic):           2.27e-37\n",
       "Time:                        08:03:56   Log-Likelihood:                -3825.5\n",
       "No. Observations:                 359   AIC:                             7655.\n",
       "Df Residuals:                     357   BIC:                             7663.\n",
       "Df Model:                           1                                         \n",
       "Covariance Type:            nonrobust                                         \n",
       "===============================================================================\n",
       "                  coef    std err          t      P>|t|      [0.025      0.975]\n",
       "-------------------------------------------------------------------------------\n",
       "const        4.058e+04    910.788     44.553      0.000    3.88e+04    4.24e+04\n",
       "yearsworked   827.1461     57.457     14.396      0.000     714.150     940.143\n",
       "==============================================================================\n",
       "Omnibus:                       59.682   Durbin-Watson:                   1.972\n",
       "Prob(Omnibus):                  0.000   Jarque-Bera (JB):               87.799\n",
       "Skew:                           1.064   Prob(JB):                     8.61e-20\n",
       "Kurtosis:                       4.158   Cond. No.                         26.6\n",
       "==============================================================================\n",
       "\n",
       "Warnings:\n",
       "[1] Standard Errors assume that the covariance matrix of the errors is correctly specified.\n",
       "\"\"\""
      ]
     },
     "execution_count": 14,
     "metadata": {},
     "output_type": "execute_result"
    }
   ],
   "source": [
    "lm.summary()"
   ]
  },
  {
   "cell_type": "markdown",
   "metadata": {},
   "source": [
    "#### Reporting the amount of variance explained (R^2) and significance value (p) "
   ]
  },
  {
   "cell_type": "code",
   "execution_count": 15,
   "metadata": {},
   "outputs": [
    {
     "name": "stdout",
     "output_type": "stream",
     "text": [
      "R-squared:  0.3672941891040684\n"
     ]
    }
   ],
   "source": [
    "print('R-squared: ', lm.rsquared)\n"
   ]
  },
  {
   "cell_type": "code",
   "execution_count": 16,
   "metadata": {},
   "outputs": [
    {
     "name": "stdout",
     "output_type": "stream",
     "text": [
      "P-value:  const          6.960403e-148\n",
      "yearsworked     2.266004e-37\n",
      "dtype: float64\n"
     ]
    }
   ],
   "source": [
    "print('P-value: ', lm.pvalues)"
   ]
  },
  {
   "cell_type": "markdown",
   "metadata": {},
   "source": [
    "\n",
    "R-squared is 0.3672 this means is 37%, this indicates that the variables are closely related to each other.\n",
    "\n",
    "A p-value weighs the strength of the evidence (i.e what the data tells you about the population). A value of <0.05 implies significance and that of <0.01 implies high significance. Therefore, our p-value being =0.000 implies high significance. Therefore we can conclude that it is statistically significan"
   ]
  },
  {
   "cell_type": "markdown",
   "metadata": {},
   "source": [
    "  "
   ]
  },
  {
   "cell_type": "markdown",
   "metadata": {},
   "source": [
    "## 3. What the unstandardized coefficient (B or ‘coef’ in statsmodels) tells about the relationship between Years Worked and Salary."
   ]
  },
  {
   "cell_type": "markdown",
   "metadata": {},
   "source": [
    "An unstandardized coefficient represents the amount of change in a dependent variable Y due to a change of 1 unit of independent variable X. So in our case is true the salary does increase with years worked when we look at our graphs above"
   ]
  },
  {
   "cell_type": "markdown",
   "metadata": {},
   "source": [
    "## 4. 95% confidence intervals [0.025, 0.975] means:\n",
    "Our coefficients fall within the confidence interval range. Although we dont have 100% certainty, we are 95% confident that the values are valid."
   ]
  },
  {
   "cell_type": "markdown",
   "metadata": {},
   "source": [
    "## 5. The expected salary for someone with 12 years’ work experience."
   ]
  },
  {
   "cell_type": "code",
   "execution_count": 17,
   "metadata": {},
   "outputs": [
    {
     "data": {
      "text/plain": [
       "array([50503.90080319])"
      ]
     },
     "execution_count": 17,
     "metadata": {},
     "output_type": "execute_result"
    }
   ],
   "source": [
    "lm.predict([1,12])"
   ]
  },
  {
   "cell_type": "markdown",
   "metadata": {},
   "source": [
    "expected salary = 50503.90"
   ]
  },
  {
   "cell_type": "markdown",
   "metadata": {},
   "source": [
    "## 6. The expected salary for someone with 80 years’ work experience."
   ]
  },
  {
   "cell_type": "code",
   "execution_count": 18,
   "metadata": {},
   "outputs": [
    {
     "data": {
      "text/plain": [
       "array([106749.83660639])"
      ]
     },
     "execution_count": 18,
     "metadata": {},
     "output_type": "execute_result"
    }
   ],
   "source": [
    "lm.predict([1,80])"
   ]
  },
  {
   "cell_type": "markdown",
   "metadata": {},
   "source": [
    "expected salary for someone over 80 years = 106749.84\n",
    "\n",
    "* It is very unlikely for a person to work for 80 years"
   ]
  },
  {
   "cell_type": "markdown",
   "metadata": {},
   "source": [
    "## 7.  Other employee characteristics might influence their salary"
   ]
  },
  {
   "cell_type": "markdown",
   "metadata": {},
   "source": [
    "According to the correlation tablt above in Question 1, years ranked and position occupied are moderatly - strongly correlated to salary recieved."
   ]
  },
  {
   "cell_type": "code",
   "execution_count": null,
   "metadata": {},
   "outputs": [],
   "source": []
  },
  {
   "cell_type": "code",
   "execution_count": 24,
   "metadata": {},
   "outputs": [],
   "source": [
    "rmse_train=rmse(y_train, lm.predict(x_train))\n",
    "rmse_test=rmse(y_test, lm.predict(x_test))\n",
    "print('The rmse  for the train set is :' ,rmse_train)\n",
    "print('The rmse  for the test set is :',rmse_test)\n",
    "print('the difference in RMSE between training and testing is:', rmse_test - rmse_train)"
   ]
  }
 ],
 "metadata": {
  "kernelspec": {
   "display_name": "Python 3",
   "language": "python",
   "name": "python3"
  },
  "language_info": {
   "codemirror_mode": {
    "name": "ipython",
    "version": 3
   },
   "file_extension": ".py",
   "mimetype": "text/x-python",
   "name": "python",
   "nbconvert_exporter": "python",
   "pygments_lexer": "ipython3",
   "version": "3.7.4"
  }
 },
 "nbformat": 4,
 "nbformat_minor": 2
}
