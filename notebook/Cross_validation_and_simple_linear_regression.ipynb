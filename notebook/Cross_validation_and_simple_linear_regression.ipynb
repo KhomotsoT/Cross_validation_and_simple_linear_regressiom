{
 "cells": [
  {
   "cell_type": "markdown",
   "metadata": {},
   "source": [
    "# Cross validation and simple linear regression.\n",
    "\n",
    "##### Predicting salaries of employees using linear regression"
   ]
  },
  {
   "cell_type": "code",
   "execution_count": 1,
   "metadata": {},
   "outputs": [],
   "source": [
    "import numpy as np\n",
    "import seaborn as sns\n",
    "import matplotlib.pyplot as plt\n",
    "import pandas as pd\n",
    "import statsmodels as sm\n",
    "from statsmodels.tools.eval_measures import rmse\n",
    "from scipy import stats\n",
    "from scipy.stats import sem\n",
    "from scipy.stats import pearsonr \n",
    "from sklearn.model_selection import train_test_split\n",
    "from sklearn.linear_model import LinearRegression\n",
    "from scipy import stats\n",
    "import statsmodels.api as sm\n",
    "from sklearn.metrics import mean_squared_error\n",
    "\n",
    "\n",
    "import warnings\n",
    "warnings.filterwarnings('ignore')\n",
    "\n",
    "salary_data = pd.read_csv('../datasets/salary.csv')\n",
    "salary_meta = pd.read_csv('../datasets/Salary metadata.csv', sep=';')\n"
   ]
  },
  {
   "cell_type": "code",
   "execution_count": 2,
   "metadata": {},
   "outputs": [
    {
     "data": {
      "text/html": [
       "<div>\n",
       "<style scoped>\n",
       "    .dataframe tbody tr th:only-of-type {\n",
       "        vertical-align: middle;\n",
       "    }\n",
       "\n",
       "    .dataframe tbody tr th {\n",
       "        vertical-align: top;\n",
       "    }\n",
       "\n",
       "    .dataframe thead th {\n",
       "        text-align: right;\n",
       "    }\n",
       "</style>\n",
       "<table border=\"1\" class=\"dataframe\">\n",
       "  <thead>\n",
       "    <tr style=\"text-align: right;\">\n",
       "      <th></th>\n",
       "      <th>salary</th>\n",
       "      <th>exprior</th>\n",
       "      <th>yearsworked</th>\n",
       "      <th>yearsrank</th>\n",
       "      <th>market</th>\n",
       "      <th>degree</th>\n",
       "      <th>otherqual</th>\n",
       "      <th>position</th>\n",
       "      <th>male</th>\n",
       "      <th>Field</th>\n",
       "      <th>yearsabs</th>\n",
       "    </tr>\n",
       "  </thead>\n",
       "  <tbody>\n",
       "    <tr>\n",
       "      <td>0</td>\n",
       "      <td>53000.0</td>\n",
       "      <td>0</td>\n",
       "      <td>0</td>\n",
       "      <td>0</td>\n",
       "      <td>1.17</td>\n",
       "      <td>1</td>\n",
       "      <td>0</td>\n",
       "      <td>1</td>\n",
       "      <td>1</td>\n",
       "      <td>3</td>\n",
       "      <td>0</td>\n",
       "    </tr>\n",
       "    <tr>\n",
       "      <td>1</td>\n",
       "      <td>58000.0</td>\n",
       "      <td>1</td>\n",
       "      <td>0</td>\n",
       "      <td>0</td>\n",
       "      <td>1.24</td>\n",
       "      <td>1</td>\n",
       "      <td>0</td>\n",
       "      <td>1</td>\n",
       "      <td>1</td>\n",
       "      <td>2</td>\n",
       "      <td>0</td>\n",
       "    </tr>\n",
       "    <tr>\n",
       "      <td>2</td>\n",
       "      <td>45500.0</td>\n",
       "      <td>0</td>\n",
       "      <td>0</td>\n",
       "      <td>0</td>\n",
       "      <td>1.21</td>\n",
       "      <td>1</td>\n",
       "      <td>0</td>\n",
       "      <td>1</td>\n",
       "      <td>1</td>\n",
       "      <td>3</td>\n",
       "      <td>2</td>\n",
       "    </tr>\n",
       "    <tr>\n",
       "      <td>3</td>\n",
       "      <td>35782.0</td>\n",
       "      <td>0</td>\n",
       "      <td>2</td>\n",
       "      <td>1</td>\n",
       "      <td>0.99</td>\n",
       "      <td>1</td>\n",
       "      <td>0</td>\n",
       "      <td>1</td>\n",
       "      <td>1</td>\n",
       "      <td>4</td>\n",
       "      <td>1</td>\n",
       "    </tr>\n",
       "    <tr>\n",
       "      <td>4</td>\n",
       "      <td>34731.0</td>\n",
       "      <td>0</td>\n",
       "      <td>2</td>\n",
       "      <td>2</td>\n",
       "      <td>0.91</td>\n",
       "      <td>1</td>\n",
       "      <td>0</td>\n",
       "      <td>1</td>\n",
       "      <td>1</td>\n",
       "      <td>4</td>\n",
       "      <td>1</td>\n",
       "    </tr>\n",
       "    <tr>\n",
       "      <td>...</td>\n",
       "      <td>...</td>\n",
       "      <td>...</td>\n",
       "      <td>...</td>\n",
       "      <td>...</td>\n",
       "      <td>...</td>\n",
       "      <td>...</td>\n",
       "      <td>...</td>\n",
       "      <td>...</td>\n",
       "      <td>...</td>\n",
       "      <td>...</td>\n",
       "      <td>...</td>\n",
       "    </tr>\n",
       "    <tr>\n",
       "      <td>509</td>\n",
       "      <td>45906.0</td>\n",
       "      <td>6</td>\n",
       "      <td>17</td>\n",
       "      <td>11</td>\n",
       "      <td>0.92</td>\n",
       "      <td>1</td>\n",
       "      <td>0</td>\n",
       "      <td>2</td>\n",
       "      <td>0</td>\n",
       "      <td>2</td>\n",
       "      <td>70</td>\n",
       "    </tr>\n",
       "    <tr>\n",
       "      <td>510</td>\n",
       "      <td>60402.0</td>\n",
       "      <td>6</td>\n",
       "      <td>19</td>\n",
       "      <td>7</td>\n",
       "      <td>0.86</td>\n",
       "      <td>1</td>\n",
       "      <td>0</td>\n",
       "      <td>3</td>\n",
       "      <td>0</td>\n",
       "      <td>1</td>\n",
       "      <td>72</td>\n",
       "    </tr>\n",
       "    <tr>\n",
       "      <td>511</td>\n",
       "      <td>53187.0</td>\n",
       "      <td>19</td>\n",
       "      <td>7</td>\n",
       "      <td>6</td>\n",
       "      <td>0.78</td>\n",
       "      <td>1</td>\n",
       "      <td>0</td>\n",
       "      <td>3</td>\n",
       "      <td>0</td>\n",
       "      <td>4</td>\n",
       "      <td>76</td>\n",
       "    </tr>\n",
       "    <tr>\n",
       "      <td>512</td>\n",
       "      <td>56542.0</td>\n",
       "      <td>8</td>\n",
       "      <td>20</td>\n",
       "      <td>10</td>\n",
       "      <td>0.78</td>\n",
       "      <td>1</td>\n",
       "      <td>0</td>\n",
       "      <td>3</td>\n",
       "      <td>0</td>\n",
       "      <td>2</td>\n",
       "      <td>78</td>\n",
       "    </tr>\n",
       "    <tr>\n",
       "      <td>513</td>\n",
       "      <td>52662.0</td>\n",
       "      <td>13</td>\n",
       "      <td>25</td>\n",
       "      <td>11</td>\n",
       "      <td>0.78</td>\n",
       "      <td>1</td>\n",
       "      <td>0</td>\n",
       "      <td>3</td>\n",
       "      <td>0</td>\n",
       "      <td>1</td>\n",
       "      <td>112</td>\n",
       "    </tr>\n",
       "  </tbody>\n",
       "</table>\n",
       "<p>514 rows × 11 columns</p>\n",
       "</div>"
      ],
      "text/plain": [
       "      salary  exprior  yearsworked  yearsrank  market  degree  otherqual  \\\n",
       "0    53000.0        0            0          0    1.17       1          0   \n",
       "1    58000.0        1            0          0    1.24       1          0   \n",
       "2    45500.0        0            0          0    1.21       1          0   \n",
       "3    35782.0        0            2          1    0.99       1          0   \n",
       "4    34731.0        0            2          2    0.91       1          0   \n",
       "..       ...      ...          ...        ...     ...     ...        ...   \n",
       "509  45906.0        6           17         11    0.92       1          0   \n",
       "510  60402.0        6           19          7    0.86       1          0   \n",
       "511  53187.0       19            7          6    0.78       1          0   \n",
       "512  56542.0        8           20         10    0.78       1          0   \n",
       "513  52662.0       13           25         11    0.78       1          0   \n",
       "\n",
       "     position  male  Field  yearsabs  \n",
       "0           1     1      3         0  \n",
       "1           1     1      2         0  \n",
       "2           1     1      3         2  \n",
       "3           1     1      4         1  \n",
       "4           1     1      4         1  \n",
       "..        ...   ...    ...       ...  \n",
       "509         2     0      2        70  \n",
       "510         3     0      1        72  \n",
       "511         3     0      4        76  \n",
       "512         3     0      2        78  \n",
       "513         3     0      1       112  \n",
       "\n",
       "[514 rows x 11 columns]"
      ]
     },
     "metadata": {},
     "output_type": "display_data"
    },
    {
     "data": {
      "text/html": [
       "<div>\n",
       "<style scoped>\n",
       "    .dataframe tbody tr th:only-of-type {\n",
       "        vertical-align: middle;\n",
       "    }\n",
       "\n",
       "    .dataframe tbody tr th {\n",
       "        vertical-align: top;\n",
       "    }\n",
       "\n",
       "    .dataframe thead th {\n",
       "        text-align: right;\n",
       "    }\n",
       "</style>\n",
       "<table border=\"1\" class=\"dataframe\">\n",
       "  <thead>\n",
       "    <tr style=\"text-align: right;\">\n",
       "      <th></th>\n",
       "      <th>Variable</th>\n",
       "      <th>Type</th>\n",
       "      <th>Explanation</th>\n",
       "    </tr>\n",
       "  </thead>\n",
       "  <tbody>\n",
       "    <tr>\n",
       "      <td>0</td>\n",
       "      <td>salary</td>\n",
       "      <td>Continuous</td>\n",
       "      <td>Annual salary in dollars</td>\n",
       "    </tr>\n",
       "    <tr>\n",
       "      <td>1</td>\n",
       "      <td>exprior</td>\n",
       "      <td>Continuous</td>\n",
       "      <td>Years of experience prior to working in this f...</td>\n",
       "    </tr>\n",
       "    <tr>\n",
       "      <td>2</td>\n",
       "      <td>yearsworked</td>\n",
       "      <td>Continuous</td>\n",
       "      <td>Years worked in this field</td>\n",
       "    </tr>\n",
       "    <tr>\n",
       "      <td>3</td>\n",
       "      <td>yearsrank</td>\n",
       "      <td>Continuous</td>\n",
       "      <td>Years worked at current rank</td>\n",
       "    </tr>\n",
       "    <tr>\n",
       "      <td>4</td>\n",
       "      <td>market</td>\n",
       "      <td>Continuous</td>\n",
       "      <td>Market value (1 = salary at market value for p...</td>\n",
       "    </tr>\n",
       "    <tr>\n",
       "      <td>5</td>\n",
       "      <td>degree</td>\n",
       "      <td>Binary</td>\n",
       "      <td>Has degree (0 = no, 1 = yes)</td>\n",
       "    </tr>\n",
       "    <tr>\n",
       "      <td>6</td>\n",
       "      <td>otherqual</td>\n",
       "      <td>Binary</td>\n",
       "      <td>Has other post-secondary qualification (0 = no...</td>\n",
       "    </tr>\n",
       "    <tr>\n",
       "      <td>7</td>\n",
       "      <td>position</td>\n",
       "      <td>Categorical</td>\n",
       "      <td>Position (1 = Junior Employee, 2 = Manager, 3 ...</td>\n",
       "    </tr>\n",
       "    <tr>\n",
       "      <td>8</td>\n",
       "      <td>male</td>\n",
       "      <td>Binary</td>\n",
       "      <td>0 = no, 1 = yes</td>\n",
       "    </tr>\n",
       "    <tr>\n",
       "      <td>9</td>\n",
       "      <td>Field</td>\n",
       "      <td>Categorical</td>\n",
       "      <td>Field of work (1 = Engineering, 2 = Finance, 3...</td>\n",
       "    </tr>\n",
       "    <tr>\n",
       "      <td>10</td>\n",
       "      <td>yearsabs</td>\n",
       "      <td>Continuous</td>\n",
       "      <td>Years absent from work (e.g. due to illness / ...</td>\n",
       "    </tr>\n",
       "  </tbody>\n",
       "</table>\n",
       "</div>"
      ],
      "text/plain": [
       "       Variable         Type  \\\n",
       "0        salary   Continuous   \n",
       "1       exprior   Continuous   \n",
       "2   yearsworked   Continuous   \n",
       "3     yearsrank   Continuous   \n",
       "4        market   Continuous   \n",
       "5        degree       Binary   \n",
       "6     otherqual       Binary   \n",
       "7      position  Categorical   \n",
       "8          male       Binary   \n",
       "9         Field  Categorical   \n",
       "10     yearsabs   Continuous   \n",
       "\n",
       "                                          Explanation  \n",
       "0                            Annual salary in dollars  \n",
       "1   Years of experience prior to working in this f...  \n",
       "2                          Years worked in this field  \n",
       "3                       Years worked at current rank   \n",
       "4   Market value (1 = salary at market value for p...  \n",
       "5                        Has degree (0 = no, 1 = yes)  \n",
       "6   Has other post-secondary qualification (0 = no...  \n",
       "7   Position (1 = Junior Employee, 2 = Manager, 3 ...  \n",
       "8                                     0 = no, 1 = yes  \n",
       "9   Field of work (1 = Engineering, 2 = Finance, 3...  \n",
       "10  Years absent from work (e.g. due to illness / ...  "
      ]
     },
     "metadata": {},
     "output_type": "display_data"
    }
   ],
   "source": [
    "display(salary_data)\n",
    "display(salary_meta)\n"
   ]
  },
  {
   "cell_type": "markdown",
   "metadata": {},
   "source": [
    " "
   ]
  },
  {
   "cell_type": "markdown",
   "metadata": {},
   "source": [
    " "
   ]
  },
  {
   "cell_type": "markdown",
   "metadata": {},
   "source": [
    "## 1. Spliting data into a training and test set. Examining the training data for missing and extreme values. Creating histograms to show the distribution of the variables and a scatterplot showing the relationship between Years Worked and Salary."
   ]
  },
  {
   "cell_type": "markdown",
   "metadata": {},
   "source": [
    "#### Checking if there are any missing values"
   ]
  },
  {
   "cell_type": "code",
   "execution_count": 3,
   "metadata": {},
   "outputs": [
    {
     "data": {
      "text/plain": [
       "salary         1\n",
       "exprior        0\n",
       "yearsworked    0\n",
       "yearsrank      0\n",
       "market         0\n",
       "degree         0\n",
       "otherqual      0\n",
       "position       0\n",
       "male           0\n",
       "Field          0\n",
       "yearsabs       0\n",
       "dtype: int64"
      ]
     },
     "execution_count": 3,
     "metadata": {},
     "output_type": "execute_result"
    }
   ],
   "source": [
    "salary_data.isnull().sum()"
   ]
  },
  {
   "cell_type": "markdown",
   "metadata": {},
   "source": [
    " one missing values from salary column"
   ]
  },
  {
   "cell_type": "markdown",
   "metadata": {},
   "source": [
    "#### Filling the missing value with the mean"
   ]
  },
  {
   "cell_type": "code",
   "execution_count": 4,
   "metadata": {},
   "outputs": [],
   "source": [
    "salary_data['salary'].fillna(salary_data['salary'].mean(),inplace=True)"
   ]
  },
  {
   "cell_type": "code",
   "execution_count": 5,
   "metadata": {},
   "outputs": [
    {
     "data": {
      "text/plain": [
       "0"
      ]
     },
     "execution_count": 5,
     "metadata": {},
     "output_type": "execute_result"
    }
   ],
   "source": [
    "# confirmation from missing values\n",
    "salary_data.isnull().sum().sum()"
   ]
  },
  {
   "cell_type": "markdown",
   "metadata": {},
   "source": [
    "##### Checking for outliers"
   ]
  },
  {
   "cell_type": "code",
   "execution_count": 6,
   "metadata": {},
   "outputs": [
    {
     "name": "stdout",
     "output_type": "stream",
     "text": [
      "interquartile Range = 20306.25\n",
      "lower bound = 9540.625\n",
      "upper bound = 90765.625\n",
      "new salary data shape = (512, 11)\n"
     ]
    }
   ],
   "source": [
    "#finding Interquatile range\n",
    "q1 = salary_data.salary.quantile(0.25)\n",
    "q3 = salary_data.salary.quantile(0.75)\n",
    "iqr = q3-q1\n",
    "print('interquartile Range =',iqr)\n",
    "\n",
    "#Boundries\n",
    "lower_bound = q1-1.5*iqr\n",
    "upper_bound = q3+1.5*iqr\n",
    "print(\"lower bound =\", lower_bound)\n",
    "print(\"upper bound =\", upper_bound)\n",
    "\n",
    "#Salary data without outliers\n",
    "salary_data = salary_data.loc[(salary_data['salary'] > lower_bound) & (salary_data['salary'] < upper_bound)].reset_index(drop=True)\n",
    "print('new salary data shape =', salary_data.shape)"
   ]
  },
  {
   "cell_type": "markdown",
   "metadata": {},
   "source": [
    "##### Data correlation"
   ]
  },
  {
   "cell_type": "code",
   "execution_count": 7,
   "metadata": {},
   "outputs": [
    {
     "data": {
      "text/html": [
       "<div>\n",
       "<style scoped>\n",
       "    .dataframe tbody tr th:only-of-type {\n",
       "        vertical-align: middle;\n",
       "    }\n",
       "\n",
       "    .dataframe tbody tr th {\n",
       "        vertical-align: top;\n",
       "    }\n",
       "\n",
       "    .dataframe thead th {\n",
       "        text-align: right;\n",
       "    }\n",
       "</style>\n",
       "<table border=\"1\" class=\"dataframe\">\n",
       "  <thead>\n",
       "    <tr style=\"text-align: right;\">\n",
       "      <th></th>\n",
       "      <th>salary</th>\n",
       "      <th>exprior</th>\n",
       "      <th>yearsworked</th>\n",
       "      <th>yearsrank</th>\n",
       "      <th>market</th>\n",
       "      <th>degree</th>\n",
       "      <th>otherqual</th>\n",
       "      <th>position</th>\n",
       "      <th>male</th>\n",
       "      <th>Field</th>\n",
       "      <th>yearsabs</th>\n",
       "    </tr>\n",
       "  </thead>\n",
       "  <tbody>\n",
       "    <tr>\n",
       "      <td>salary</td>\n",
       "      <td>1.000000</td>\n",
       "      <td>0.102471</td>\n",
       "      <td>0.632135</td>\n",
       "      <td>0.613411</td>\n",
       "      <td>0.397153</td>\n",
       "      <td>0.043012</td>\n",
       "      <td>0.173972</td>\n",
       "      <td>0.704892</td>\n",
       "      <td>0.362302</td>\n",
       "      <td>-0.493484</td>\n",
       "      <td>-0.066496</td>\n",
       "    </tr>\n",
       "    <tr>\n",
       "      <td>exprior</td>\n",
       "      <td>0.102471</td>\n",
       "      <td>1.000000</td>\n",
       "      <td>-0.248118</td>\n",
       "      <td>-0.071533</td>\n",
       "      <td>-0.045262</td>\n",
       "      <td>-0.051132</td>\n",
       "      <td>0.269539</td>\n",
       "      <td>0.112165</td>\n",
       "      <td>0.043824</td>\n",
       "      <td>-0.041153</td>\n",
       "      <td>0.135723</td>\n",
       "    </tr>\n",
       "    <tr>\n",
       "      <td>yearsworked</td>\n",
       "      <td>0.632135</td>\n",
       "      <td>-0.248118</td>\n",
       "      <td>1.000000</td>\n",
       "      <td>0.813662</td>\n",
       "      <td>-0.074319</td>\n",
       "      <td>0.028088</td>\n",
       "      <td>-0.040123</td>\n",
       "      <td>0.747183</td>\n",
       "      <td>0.278351</td>\n",
       "      <td>-0.259999</td>\n",
       "      <td>0.056364</td>\n",
       "    </tr>\n",
       "    <tr>\n",
       "      <td>yearsrank</td>\n",
       "      <td>0.613411</td>\n",
       "      <td>-0.071533</td>\n",
       "      <td>0.813662</td>\n",
       "      <td>1.000000</td>\n",
       "      <td>-0.032917</td>\n",
       "      <td>0.005836</td>\n",
       "      <td>0.007835</td>\n",
       "      <td>0.483265</td>\n",
       "      <td>0.236262</td>\n",
       "      <td>-0.260419</td>\n",
       "      <td>0.037028</td>\n",
       "    </tr>\n",
       "    <tr>\n",
       "      <td>market</td>\n",
       "      <td>0.397153</td>\n",
       "      <td>-0.045262</td>\n",
       "      <td>-0.074319</td>\n",
       "      <td>-0.032917</td>\n",
       "      <td>1.000000</td>\n",
       "      <td>0.035405</td>\n",
       "      <td>0.023147</td>\n",
       "      <td>-0.020056</td>\n",
       "      <td>0.178630</td>\n",
       "      <td>-0.217271</td>\n",
       "      <td>-0.165736</td>\n",
       "    </tr>\n",
       "    <tr>\n",
       "      <td>degree</td>\n",
       "      <td>0.043012</td>\n",
       "      <td>-0.051132</td>\n",
       "      <td>0.028088</td>\n",
       "      <td>0.005836</td>\n",
       "      <td>0.035405</td>\n",
       "      <td>1.000000</td>\n",
       "      <td>-0.214591</td>\n",
       "      <td>0.042989</td>\n",
       "      <td>0.061227</td>\n",
       "      <td>-0.097773</td>\n",
       "      <td>0.029584</td>\n",
       "    </tr>\n",
       "    <tr>\n",
       "      <td>otherqual</td>\n",
       "      <td>0.173972</td>\n",
       "      <td>0.269539</td>\n",
       "      <td>-0.040123</td>\n",
       "      <td>0.007835</td>\n",
       "      <td>0.023147</td>\n",
       "      <td>-0.214591</td>\n",
       "      <td>1.000000</td>\n",
       "      <td>0.161575</td>\n",
       "      <td>0.016332</td>\n",
       "      <td>-0.078059</td>\n",
       "      <td>-0.017945</td>\n",
       "    </tr>\n",
       "    <tr>\n",
       "      <td>position</td>\n",
       "      <td>0.704892</td>\n",
       "      <td>0.112165</td>\n",
       "      <td>0.747183</td>\n",
       "      <td>0.483265</td>\n",
       "      <td>-0.020056</td>\n",
       "      <td>0.042989</td>\n",
       "      <td>0.161575</td>\n",
       "      <td>1.000000</td>\n",
       "      <td>0.316646</td>\n",
       "      <td>-0.284845</td>\n",
       "      <td>0.031296</td>\n",
       "    </tr>\n",
       "    <tr>\n",
       "      <td>male</td>\n",
       "      <td>0.362302</td>\n",
       "      <td>0.043824</td>\n",
       "      <td>0.278351</td>\n",
       "      <td>0.236262</td>\n",
       "      <td>0.178630</td>\n",
       "      <td>0.061227</td>\n",
       "      <td>0.016332</td>\n",
       "      <td>0.316646</td>\n",
       "      <td>1.000000</td>\n",
       "      <td>-0.126357</td>\n",
       "      <td>-0.621940</td>\n",
       "    </tr>\n",
       "    <tr>\n",
       "      <td>Field</td>\n",
       "      <td>-0.493484</td>\n",
       "      <td>-0.041153</td>\n",
       "      <td>-0.259999</td>\n",
       "      <td>-0.260419</td>\n",
       "      <td>-0.217271</td>\n",
       "      <td>-0.097773</td>\n",
       "      <td>-0.078059</td>\n",
       "      <td>-0.284845</td>\n",
       "      <td>-0.126357</td>\n",
       "      <td>1.000000</td>\n",
       "      <td>-0.002017</td>\n",
       "    </tr>\n",
       "    <tr>\n",
       "      <td>yearsabs</td>\n",
       "      <td>-0.066496</td>\n",
       "      <td>0.135723</td>\n",
       "      <td>0.056364</td>\n",
       "      <td>0.037028</td>\n",
       "      <td>-0.165736</td>\n",
       "      <td>0.029584</td>\n",
       "      <td>-0.017945</td>\n",
       "      <td>0.031296</td>\n",
       "      <td>-0.621940</td>\n",
       "      <td>-0.002017</td>\n",
       "      <td>1.000000</td>\n",
       "    </tr>\n",
       "  </tbody>\n",
       "</table>\n",
       "</div>"
      ],
      "text/plain": [
       "               salary   exprior  yearsworked  yearsrank    market    degree  \\\n",
       "salary       1.000000  0.102471     0.632135   0.613411  0.397153  0.043012   \n",
       "exprior      0.102471  1.000000    -0.248118  -0.071533 -0.045262 -0.051132   \n",
       "yearsworked  0.632135 -0.248118     1.000000   0.813662 -0.074319  0.028088   \n",
       "yearsrank    0.613411 -0.071533     0.813662   1.000000 -0.032917  0.005836   \n",
       "market       0.397153 -0.045262    -0.074319  -0.032917  1.000000  0.035405   \n",
       "degree       0.043012 -0.051132     0.028088   0.005836  0.035405  1.000000   \n",
       "otherqual    0.173972  0.269539    -0.040123   0.007835  0.023147 -0.214591   \n",
       "position     0.704892  0.112165     0.747183   0.483265 -0.020056  0.042989   \n",
       "male         0.362302  0.043824     0.278351   0.236262  0.178630  0.061227   \n",
       "Field       -0.493484 -0.041153    -0.259999  -0.260419 -0.217271 -0.097773   \n",
       "yearsabs    -0.066496  0.135723     0.056364   0.037028 -0.165736  0.029584   \n",
       "\n",
       "             otherqual  position      male     Field  yearsabs  \n",
       "salary        0.173972  0.704892  0.362302 -0.493484 -0.066496  \n",
       "exprior       0.269539  0.112165  0.043824 -0.041153  0.135723  \n",
       "yearsworked  -0.040123  0.747183  0.278351 -0.259999  0.056364  \n",
       "yearsrank     0.007835  0.483265  0.236262 -0.260419  0.037028  \n",
       "market        0.023147 -0.020056  0.178630 -0.217271 -0.165736  \n",
       "degree       -0.214591  0.042989  0.061227 -0.097773  0.029584  \n",
       "otherqual     1.000000  0.161575  0.016332 -0.078059 -0.017945  \n",
       "position      0.161575  1.000000  0.316646 -0.284845  0.031296  \n",
       "male          0.016332  0.316646  1.000000 -0.126357 -0.621940  \n",
       "Field        -0.078059 -0.284845 -0.126357  1.000000 -0.002017  \n",
       "yearsabs     -0.017945  0.031296 -0.621940 -0.002017  1.000000  "
      ]
     },
     "execution_count": 7,
     "metadata": {},
     "output_type": "execute_result"
    }
   ],
   "source": [
    "salary_data.corr()"
   ]
  },
  {
   "cell_type": "markdown",
   "metadata": {},
   "source": [
    "The columns Yearsworked, Yearsrank and Position have high correlation"
   ]
  },
  {
   "cell_type": "code",
   "execution_count": 8,
   "metadata": {},
   "outputs": [
    {
     "data": {
      "text/html": [
       "<div>\n",
       "<style scoped>\n",
       "    .dataframe tbody tr th:only-of-type {\n",
       "        vertical-align: middle;\n",
       "    }\n",
       "\n",
       "    .dataframe tbody tr th {\n",
       "        vertical-align: top;\n",
       "    }\n",
       "\n",
       "    .dataframe thead th {\n",
       "        text-align: right;\n",
       "    }\n",
       "</style>\n",
       "<table border=\"1\" class=\"dataframe\">\n",
       "  <thead>\n",
       "    <tr style=\"text-align: right;\">\n",
       "      <th></th>\n",
       "      <th>salary</th>\n",
       "      <th>exprior</th>\n",
       "      <th>yearsworked</th>\n",
       "      <th>yearsrank</th>\n",
       "      <th>market</th>\n",
       "      <th>degree</th>\n",
       "      <th>otherqual</th>\n",
       "      <th>position</th>\n",
       "      <th>male</th>\n",
       "      <th>Field</th>\n",
       "      <th>yearsabs</th>\n",
       "    </tr>\n",
       "  </thead>\n",
       "  <tbody>\n",
       "    <tr>\n",
       "      <td>count</td>\n",
       "      <td>512.000000</td>\n",
       "      <td>512.000000</td>\n",
       "      <td>512.000000</td>\n",
       "      <td>512.000000</td>\n",
       "      <td>512.000000</td>\n",
       "      <td>512.000000</td>\n",
       "      <td>512.000000</td>\n",
       "      <td>512.000000</td>\n",
       "      <td>512.000000</td>\n",
       "      <td>512.000000</td>\n",
       "      <td>512.000000</td>\n",
       "    </tr>\n",
       "    <tr>\n",
       "      <td>mean</td>\n",
       "      <td>50695.574473</td>\n",
       "      <td>2.898438</td>\n",
       "      <td>12.833984</td>\n",
       "      <td>7.029297</td>\n",
       "      <td>0.947598</td>\n",
       "      <td>0.964844</td>\n",
       "      <td>0.044922</td>\n",
       "      <td>2.128906</td>\n",
       "      <td>0.750000</td>\n",
       "      <td>2.535156</td>\n",
       "      <td>7.005859</td>\n",
       "    </tr>\n",
       "    <tr>\n",
       "      <td>std</td>\n",
       "      <td>12408.394738</td>\n",
       "      <td>4.739128</td>\n",
       "      <td>9.452413</td>\n",
       "      <td>6.416186</td>\n",
       "      <td>0.148936</td>\n",
       "      <td>0.184355</td>\n",
       "      <td>0.207335</td>\n",
       "      <td>0.819876</td>\n",
       "      <td>0.433436</td>\n",
       "      <td>1.125550</td>\n",
       "      <td>16.901868</td>\n",
       "    </tr>\n",
       "    <tr>\n",
       "      <td>min</td>\n",
       "      <td>29000.000000</td>\n",
       "      <td>0.000000</td>\n",
       "      <td>0.000000</td>\n",
       "      <td>0.000000</td>\n",
       "      <td>0.710000</td>\n",
       "      <td>0.000000</td>\n",
       "      <td>0.000000</td>\n",
       "      <td>1.000000</td>\n",
       "      <td>0.000000</td>\n",
       "      <td>1.000000</td>\n",
       "      <td>0.000000</td>\n",
       "    </tr>\n",
       "    <tr>\n",
       "      <td>25%</td>\n",
       "      <td>40000.000000</td>\n",
       "      <td>0.000000</td>\n",
       "      <td>4.000000</td>\n",
       "      <td>2.000000</td>\n",
       "      <td>0.840000</td>\n",
       "      <td>1.000000</td>\n",
       "      <td>0.000000</td>\n",
       "      <td>1.000000</td>\n",
       "      <td>0.750000</td>\n",
       "      <td>2.000000</td>\n",
       "      <td>0.000000</td>\n",
       "    </tr>\n",
       "    <tr>\n",
       "      <td>50%</td>\n",
       "      <td>50052.000000</td>\n",
       "      <td>0.500000</td>\n",
       "      <td>12.000000</td>\n",
       "      <td>5.000000</td>\n",
       "      <td>0.920000</td>\n",
       "      <td>1.000000</td>\n",
       "      <td>0.000000</td>\n",
       "      <td>2.000000</td>\n",
       "      <td>1.000000</td>\n",
       "      <td>3.000000</td>\n",
       "      <td>1.000000</td>\n",
       "    </tr>\n",
       "    <tr>\n",
       "      <td>75%</td>\n",
       "      <td>60162.250000</td>\n",
       "      <td>4.000000</td>\n",
       "      <td>22.000000</td>\n",
       "      <td>12.000000</td>\n",
       "      <td>1.020000</td>\n",
       "      <td>1.000000</td>\n",
       "      <td>0.000000</td>\n",
       "      <td>3.000000</td>\n",
       "      <td>1.000000</td>\n",
       "      <td>4.000000</td>\n",
       "      <td>2.000000</td>\n",
       "    </tr>\n",
       "    <tr>\n",
       "      <td>max</td>\n",
       "      <td>90082.000000</td>\n",
       "      <td>25.000000</td>\n",
       "      <td>41.000000</td>\n",
       "      <td>28.000000</td>\n",
       "      <td>1.330000</td>\n",
       "      <td>1.000000</td>\n",
       "      <td>1.000000</td>\n",
       "      <td>3.000000</td>\n",
       "      <td>1.000000</td>\n",
       "      <td>4.000000</td>\n",
       "      <td>118.000000</td>\n",
       "    </tr>\n",
       "  </tbody>\n",
       "</table>\n",
       "</div>"
      ],
      "text/plain": [
       "             salary     exprior  yearsworked   yearsrank      market  \\\n",
       "count    512.000000  512.000000   512.000000  512.000000  512.000000   \n",
       "mean   50695.574473    2.898438    12.833984    7.029297    0.947598   \n",
       "std    12408.394738    4.739128     9.452413    6.416186    0.148936   \n",
       "min    29000.000000    0.000000     0.000000    0.000000    0.710000   \n",
       "25%    40000.000000    0.000000     4.000000    2.000000    0.840000   \n",
       "50%    50052.000000    0.500000    12.000000    5.000000    0.920000   \n",
       "75%    60162.250000    4.000000    22.000000   12.000000    1.020000   \n",
       "max    90082.000000   25.000000    41.000000   28.000000    1.330000   \n",
       "\n",
       "           degree   otherqual    position        male       Field    yearsabs  \n",
       "count  512.000000  512.000000  512.000000  512.000000  512.000000  512.000000  \n",
       "mean     0.964844    0.044922    2.128906    0.750000    2.535156    7.005859  \n",
       "std      0.184355    0.207335    0.819876    0.433436    1.125550   16.901868  \n",
       "min      0.000000    0.000000    1.000000    0.000000    1.000000    0.000000  \n",
       "25%      1.000000    0.000000    1.000000    0.750000    2.000000    0.000000  \n",
       "50%      1.000000    0.000000    2.000000    1.000000    3.000000    1.000000  \n",
       "75%      1.000000    0.000000    3.000000    1.000000    4.000000    2.000000  \n",
       "max      1.000000    1.000000    3.000000    1.000000    4.000000  118.000000  "
      ]
     },
     "execution_count": 8,
     "metadata": {},
     "output_type": "execute_result"
    }
   ],
   "source": [
    " salary_data.describe()"
   ]
  },
  {
   "cell_type": "markdown",
   "metadata": {},
   "source": [
    "#### splitting the dataset"
   ]
  },
  {
   "cell_type": "code",
   "execution_count": 9,
   "metadata": {},
   "outputs": [],
   "source": [
    "x = salary_data['yearsworked']\n",
    "y = salary_data['salary']\n",
    "\n",
    "\n",
    "x_train, x_test, y_train, y_test = train_test_split(x, y, test_size=0.3, random_state=50)"
   ]
  },
  {
   "cell_type": "markdown",
   "metadata": {},
   "source": [
    " "
   ]
  },
  {
   "cell_type": "code",
   "execution_count": 10,
   "metadata": {},
   "outputs": [
    {
     "data": {
      "text/plain": [
       "(0.6312720599660593, 3.3671033036927215e-41)"
      ]
     },
     "execution_count": 10,
     "metadata": {},
     "output_type": "execute_result"
    }
   ],
   "source": [
    "# linear regression\n",
    "stats.pearsonr(x_train,y_train)"
   ]
  },
  {
   "cell_type": "code",
   "execution_count": 11,
   "metadata": {},
   "outputs": [
    {
     "data": {
      "image/png": "[encoded data removed]",
      "text/plain": [
       "<Figure size 720x432 with 1 Axes>"
      ]
     },
     "metadata": {},
     "output_type": "display_data"
    }
   ],
   "source": [
    "sns.set()\n",
    "plt.figure(figsize = (10,6))\n",
    "sns.regplot(data = salary_data, x = salary_data[\"yearsworked\"], y =salary_data[\"salary\"],ci = 68,color = \"blue\")\n",
    "plt.xlabel(\"Years worked\", fontsize = 12)\n",
    "plt.ylabel(\"Salary\", fontsize = 12 )\n",
    "_= plt.title(\"Years Worked VS Salary\", fontsize = 15)"
   ]
  },
  {
   "cell_type": "markdown",
   "metadata": {},
   "source": [
    " "
   ]
  },
  {
   "cell_type": "code",
   "execution_count": 12,
   "metadata": {},
   "outputs": [
    {
     "data": {
      "text/plain": [
       "Text(0, 0.5, 'Frequency')"
      ]
     },
     "execution_count": 12,
     "metadata": {},
     "output_type": "execute_result"
    },
    {
     "data": {
      "image/png": "[encoded data removed]",
      "text/plain": [
       "<Figure size 1080x360 with 2 Axes>"
      ]
     },
     "metadata": {},
     "output_type": "display_data"
    }
   ],
   "source": [
    "#plotting histogram & subplotting\n",
    "f, axes = plt.subplots(1, 2,figsize=(15, 5))\n",
    "grid = plt.GridSpec(1, 2, wspace=0.5, hspace=0.3)\n",
    "plt.subplot(grid[0, 0])\n",
    "x_train.hist()\n",
    "plt.title('Years worked variance', fontsize= 15)\n",
    "plt.xlabel('Years Worked')\n",
    "plt.ylabel('Frequency')\n",
    "\n",
    "plt.subplot(grid[0, 1])\n",
    "y_train.hist()\n",
    "plt.title('Salary Variance', fontsize= 15)\n",
    "plt.xlabel('Salary')\n",
    "plt.ylabel('Frequency')"
   ]
  },
  {
   "cell_type": "markdown",
   "metadata": {},
   "source": [
    " "
   ]
  },
  {
   "cell_type": "code",
   "execution_count": 13,
   "metadata": {},
   "outputs": [],
   "source": [
    "#Creating training target\n",
    "y = salary_data[\"salary\"]\n",
    " \n",
    "#Creating testin target    \n",
    "x = salary_data[[\"yearsworked\"]]\n",
    "\n",
    "X = sm.add_constant(x.values)\n",
    "\n",
    "#Slipping data into training and testing set wit an 80-20\n",
    "X_train, X_test,y_train,y_test = train_test_split(X,y,test_size = 0.2,random_state = 42)\n",
    "\n",
    "\n",
    "# create a fitted model in one line\n",
    "model = sm.OLS(y_train, X_train).fit()\n",
    "predictions = model.predict(X_test)"
   ]
  },
  {
   "cell_type": "markdown",
   "metadata": {},
   "source": [
    "### 2. The statsmodels package and the training data, running a simple linear regression for Salary with one predictor variable: Years Worked"
   ]
  },
  {
   "cell_type": "code",
   "execution_count": 14,
   "metadata": {},
   "outputs": [
    {
     "data": {
      "text/html": [
       "<table class=\"simpletable\">\n",
       "<caption>OLS Regression Results</caption>\n",
       "<tr>\n",
       "  <th>Dep. Variable:</th>         <td>salary</td>      <th>  R-squared:         </th> <td>   0.431</td>\n",
       "</tr>\n",
       "<tr>\n",
       "  <th>Model:</th>                   <td>OLS</td>       <th>  Adj. R-squared:    </th> <td>   0.430</td>\n",
       "</tr>\n",
       "<tr>\n",
       "  <th>Method:</th>             <td>Least Squares</td>  <th>  F-statistic:       </th> <td>   308.4</td>\n",
       "</tr>\n",
       "<tr>\n",
       "  <th>Date:</th>             <td>Tue, 14 Jul 2020</td> <th>  Prob (F-statistic):</th> <td>8.61e-52</td>\n",
       "</tr>\n",
       "<tr>\n",
       "  <th>Time:</th>                 <td>03:55:14</td>     <th>  Log-Likelihood:    </th> <td> -4329.9</td>\n",
       "</tr>\n",
       "<tr>\n",
       "  <th>No. Observations:</th>      <td>   409</td>      <th>  AIC:               </th> <td>   8664.</td>\n",
       "</tr>\n",
       "<tr>\n",
       "  <th>Df Residuals:</th>          <td>   407</td>      <th>  BIC:               </th> <td>   8672.</td>\n",
       "</tr>\n",
       "<tr>\n",
       "  <th>Df Model:</th>              <td>     1</td>      <th>                     </th>     <td> </td>   \n",
       "</tr>\n",
       "<tr>\n",
       "  <th>Covariance Type:</th>      <td>nonrobust</td>    <th>                     </th>     <td> </td>   \n",
       "</tr>\n",
       "</table>\n",
       "<table class=\"simpletable\">\n",
       "<tr>\n",
       "    <td></td>       <th>coef</th>     <th>std err</th>      <th>t</th>      <th>P>|t|</th>  <th>[0.025</th>    <th>0.975]</th>  \n",
       "</tr>\n",
       "<tr>\n",
       "  <th>const</th> <td> 3.939e+04</td> <td>  807.405</td> <td>   48.783</td> <td> 0.000</td> <td> 3.78e+04</td> <td>  4.1e+04</td>\n",
       "</tr>\n",
       "<tr>\n",
       "  <th>x1</th>    <td>  897.5084</td> <td>   51.111</td> <td>   17.560</td> <td> 0.000</td> <td>  797.035</td> <td>  997.982</td>\n",
       "</tr>\n",
       "</table>\n",
       "<table class=\"simpletable\">\n",
       "<tr>\n",
       "  <th>Omnibus:</th>       <td>57.739</td> <th>  Durbin-Watson:     </th> <td>   2.105</td>\n",
       "</tr>\n",
       "<tr>\n",
       "  <th>Prob(Omnibus):</th> <td> 0.000</td> <th>  Jarque-Bera (JB):  </th> <td>  79.002</td>\n",
       "</tr>\n",
       "<tr>\n",
       "  <th>Skew:</th>          <td> 0.996</td> <th>  Prob(JB):          </th> <td>7.00e-18</td>\n",
       "</tr>\n",
       "<tr>\n",
       "  <th>Kurtosis:</th>      <td> 3.819</td> <th>  Cond. No.          </th> <td>    26.9</td>\n",
       "</tr>\n",
       "</table><br/><br/>Warnings:<br/>[1] Standard Errors assume that the covariance matrix of the errors is correctly specified."
      ],
      "text/plain": [
       "<class 'statsmodels.iolib.summary.Summary'>\n",
       "\"\"\"\n",
       "                            OLS Regression Results                            \n",
       "==============================================================================\n",
       "Dep. Variable:                 salary   R-squared:                       0.431\n",
       "Model:                            OLS   Adj. R-squared:                  0.430\n",
       "Method:                 Least Squares   F-statistic:                     308.4\n",
       "Date:                Tue, 14 Jul 2020   Prob (F-statistic):           8.61e-52\n",
       "Time:                        03:55:14   Log-Likelihood:                -4329.9\n",
       "No. Observations:                 409   AIC:                             8664.\n",
       "Df Residuals:                     407   BIC:                             8672.\n",
       "Df Model:                           1                                         \n",
       "Covariance Type:            nonrobust                                         \n",
       "==============================================================================\n",
       "                 coef    std err          t      P>|t|      [0.025      0.975]\n",
       "------------------------------------------------------------------------------\n",
       "const       3.939e+04    807.405     48.783      0.000    3.78e+04     4.1e+04\n",
       "x1           897.5084     51.111     17.560      0.000     797.035     997.982\n",
       "==============================================================================\n",
       "Omnibus:                       57.739   Durbin-Watson:                   2.105\n",
       "Prob(Omnibus):                  0.000   Jarque-Bera (JB):               79.002\n",
       "Skew:                           0.996   Prob(JB):                     7.00e-18\n",
       "Kurtosis:                       3.819   Cond. No.                         26.9\n",
       "==============================================================================\n",
       "\n",
       "Warnings:\n",
       "[1] Standard Errors assume that the covariance matrix of the errors is correctly specified.\n",
       "\"\"\""
      ]
     },
     "execution_count": 14,
     "metadata": {},
     "output_type": "execute_result"
    }
   ],
   "source": [
    "model.summary()"
   ]
  },
  {
   "cell_type": "markdown",
   "metadata": {},
   "source": [
    "#### Reporting the amount of variance explained (R^2) and significance value (p) "
   ]
  },
  {
   "cell_type": "code",
   "execution_count": 15,
   "metadata": {},
   "outputs": [
    {
     "name": "stdout",
     "output_type": "stream",
     "text": [
      "R-squared:  0.43105483946599843\n"
     ]
    }
   ],
   "source": [
    "print('R-squared: ', model.rsquared)\n"
   ]
  },
  {
   "cell_type": "code",
   "execution_count": 16,
   "metadata": {},
   "outputs": [
    {
     "name": "stdout",
     "output_type": "stream",
     "text": [
      "P-value:  const    4.017975e-172\n",
      "x1        8.610876e-52\n",
      "dtype: float64\n"
     ]
    }
   ],
   "source": [
    "print('P-value: ', model.pvalues)"
   ]
  },
  {
   "cell_type": "markdown",
   "metadata": {},
   "source": [
    "\n",
    "R-squared is 0.4311 this means is 43.11, this indicates that the variables are closely related to each other.\n",
    "\n",
    "A p-value weighs the strength of the evidence (i.e what the data tells you about the population). A value of <0.05 implies significance and that of <0.01 implies high significance. Therefore, our p-value being =0.000 implies high significance. Therefore we can conclude that it is statistically significan"
   ]
  },
  {
   "cell_type": "markdown",
   "metadata": {},
   "source": [
    "  "
   ]
  },
  {
   "cell_type": "markdown",
   "metadata": {},
   "source": [
    "## 3. What the unstandardized coefficient (B or ‘coef’ in statsmodels) tells about the relationship between Years Worked and Salary."
   ]
  },
  {
   "cell_type": "markdown",
   "metadata": {},
   "source": [
    "An unstandardized coefficient represents the amount of change in a dependent variable Y due to a change of 1 unit of independent variable X. So in our case is true the salary does increase with years worked when we look at our graphs above"
   ]
  },
  {
   "cell_type": "markdown",
   "metadata": {},
   "source": [
    "## 4. 95% confidence intervals [0.025, 0.975] means:\n",
    "Our coefficients fall within the confidence interval range. Although we dont have 100% certainty, we are 95% confident that the values are valid."
   ]
  },
  {
   "cell_type": "markdown",
   "metadata": {},
   "source": [
    "## 5. The expected salary for someone with 12 years’ work experience."
   ]
  },
  {
   "cell_type": "code",
   "execution_count": 17,
   "metadata": {},
   "outputs": [
    {
     "data": {
      "text/plain": [
       "array([50157.98525943])"
      ]
     },
     "execution_count": 17,
     "metadata": {},
     "output_type": "execute_result"
    }
   ],
   "source": [
    "model.predict([1,12])"
   ]
  },
  {
   "cell_type": "markdown",
   "metadata": {},
   "source": [
    "The salary of someone with 12 years experience will be appox = 50158"
   ]
  },
  {
   "cell_type": "markdown",
   "metadata": {},
   "source": [
    "## 6. The expected salary for someone with 80 years’ work experience."
   ]
  },
  {
   "cell_type": "code",
   "execution_count": 18,
   "metadata": {},
   "outputs": [
    {
     "data": {
      "text/plain": [
       "array([111188.55539573])"
      ]
     },
     "execution_count": 18,
     "metadata": {},
     "output_type": "execute_result"
    }
   ],
   "source": [
    "model.predict([1,80])"
   ]
  },
  {
   "cell_type": "markdown",
   "metadata": {},
   "source": [
    "Salary for someone over 80 years is apporox = 111189\n",
    "\n",
    "* It is very unlikely for a person to work for 80 years"
   ]
  },
  {
   "cell_type": "markdown",
   "metadata": {},
   "source": [
    "## 7.  Other employee characteristics might influence their salary"
   ]
  },
  {
   "cell_type": "markdown",
   "metadata": {},
   "source": [
    "According to the correlation tablt above in Question 1, years ranked and position occupied are moderatly - strongly correlated to salary recieved."
   ]
  },
  {
   "cell_type": "code",
   "execution_count": 21,
   "metadata": {},
   "outputs": [
    {
     "name": "stdout",
     "output_type": "stream",
     "text": [
      "root mean squared error for train =  9581.63412623038\n",
      "root mean squared error for test =  9814.410713773967\n",
      "root mean squared error difference =  232.77658754358708\n"
     ]
    },
    {
     "data": {
      "image/png": "[encoded data removed]",
      "text/plain": [
       "<Figure size 720x432 with 1 Axes>"
      ]
     },
     "metadata": {},
     "output_type": "display_data"
    },
    {
     "data": {
      "image/png": "[encoded data removed]",
      "text/plain": [
       "<Figure size 720x432 with 1 Axes>"
      ]
     },
     "metadata": {},
     "output_type": "display_data"
    }
   ],
   "source": [
    "# Root Mean Square Error for train\n",
    "train_rmse = rmse(y_train, model.predict(X_train))\n",
    "print('root mean squared error for train = ', train_rmse)\n",
    "\n",
    "#Root Mean Square Error for test\n",
    "test_rmse = rmse(y_test, predictions)\n",
    "print('root mean squared error for test = ', test_rmse)\n",
    "\n",
    "# Root Mean Square Error difference \n",
    "rmse_diff = test_rmse - train_rmse\n",
    "print('root mean squared error difference = ', rmse_diff)\n",
    "\n",
    "#Regression plot for train\n",
    "sns.set()\n",
    "plt.figure(figsize = (10,6))\n",
    "sns.regplot(y_train, model.predict(X_train), color = \"cyan\")\n",
    "plt.xlabel(\"Y_Train\",fontsize = 15)\n",
    "plt.ylabel(\"Predictions\", fontsize = 15)\n",
    "_= plt.title(\"Train Vs Predictions\",fontsize = 18)\n",
    "\n",
    "\n",
    "#Regression plot for tests\n",
    "sns.set()\n",
    "plt.figure(figsize = (10,6))\n",
    "sns.regplot(y_test,predictions, color = \"blue\")\n",
    "plt.xlabel(\"Y_Test\",fontsize = 15)\n",
    "plt.ylabel(\"Predictions\", fontsize = 15)\n",
    "_= plt.title(\"Tests Vs Predictions\",fontsize = 18)"
   ]
  },
  {
   "cell_type": "code",
   "execution_count": null,
   "metadata": {},
   "outputs": [],
   "source": []
  }
 ],
 "metadata": {
  "kernelspec": {
   "display_name": "Python 3",
   "language": "python",
   "name": "python3"
  },
  "language_info": {
   "codemirror_mode": {
    "name": "ipython",
    "version": 3
   },
   "file_extension": ".py",
   "mimetype": "text/x-python",
   "name": "python",
   "nbconvert_exporter": "python",
   "pygments_lexer": "ipython3",
   "version": "3.7.4"
  }
 },
 "nbformat": 4,
 "nbformat_minor": 2
}
